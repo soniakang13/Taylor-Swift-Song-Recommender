{
 "cells": [
  {
   "cell_type": "code",
   "execution_count": 3,
   "id": "385312be",
   "metadata": {},
   "outputs": [],
   "source": [
    "import numpy as np\n",
    "import pandas as pd"
   ]
  },
  {
   "cell_type": "code",
   "execution_count": 4,
   "id": "6ec52d17",
   "metadata": {},
   "outputs": [],
   "source": [
    "df_lyrics = pd.read_csv(\"/Users/soniakang/Desktop/Taylor Swift Song Recommender/songs.csv\")\n",
    "#Clean out Holiday Album\n",
    "df_lyrics = df_lyrics[df_lyrics['Album'] != 'The Taylor Swift Holiday Collection - EP']\n",
    "df_lyrics = df_lyrics[df_lyrics['Album']!= 'Cats: Highlights From the Motion Picture Soundtrack']"
   ]
  },
  {
   "cell_type": "code",
   "execution_count": 5,
   "id": "3e42c959",
   "metadata": {},
   "outputs": [],
   "source": [
    "#Sentiment Analysis (positive, negative, neutral)\n",
    "from textblob import TextBlob\n",
    "\n",
    "#sentiment of lyrics\n",
    "def calculate_sentiment(lyrics):\n",
    "    return TextBlob(lyrics).sentiment.polarity\n",
    "\n",
    "df_lyrics['Sentiment'] = df_lyrics['Lyrics'].apply(calculate_sentiment)"
   ]
  },
  {
   "cell_type": "code",
   "execution_count": 6,
   "id": "90a02b79",
   "metadata": {},
   "outputs": [],
   "source": [
    "#Preprocess the lyrics\n",
    "import nltk\n",
    "import re\n",
    "from nltk.corpus import stopwords\n",
    "from nltk.stem import WordNetLemmatizer\n",
    "from nltk.tokenize import word_tokenize\n",
    "\n",
    "\n",
    "# Initialize lemmatizer\n",
    "lemmatizer = WordNetLemmatizer()\n",
    "\n",
    "# Function to preprocess text\n",
    "def preprocess_text(text):\n",
    "    # Convert text to lowercase\n",
    "    text = text.lower()\n",
    "    \n",
    "    # Remove punctuation\n",
    "    text = re.sub(r'[^\\w\\s]', '', text)\n",
    "    \n",
    "    # Tokenize text\n",
    "    tokens = word_tokenize(text)\n",
    "    \n",
    "    # Remove stopwords and lemmatize the words\n",
    "    tokens = [lemmatizer.lemmatize(word) for word in tokens if word not in stopwords.words('english')]\n",
    "    \n",
    "    return ' '.join(tokens)"
   ]
  },
  {
   "cell_type": "code",
   "execution_count": 7,
   "id": "27f32035",
   "metadata": {},
   "outputs": [
    {
     "name": "stdout",
     "output_type": "stream",
     "text": [
      "Breathe (Taylor’s Version)\n"
     ]
    }
   ],
   "source": [
    "from sklearn.feature_extraction.text import TfidfVectorizer\n",
    "from sklearn.metrics.pairwise import cosine_similarity\n",
    "\n",
    "from gensim.models.doc2vec import Doc2Vec, TaggedDocument\n",
    "from nltk.tokenize import word_tokenize\n",
    "\n",
    "#Preprocess all lyrics\n",
    "df_lyrics['Processed Lyrics'] = df_lyrics['Lyrics'].apply(preprocess_text)\n",
    "\n",
    "# Prepare data for Doc2Vec\n",
    "tagged_data = [TaggedDocument(words=word_tokenize(_d.lower()), tags=[str(i)]) \n",
    "               for i, _d in enumerate(df_lyrics['Lyrics'])]\n",
    "\n",
    "# Train a Doc2Vec model\n",
    "model = Doc2Vec(vector_size=50, min_count=2, epochs=30)\n",
    "model.build_vocab(tagged_data)\n",
    "model.train(tagged_data, total_examples=model.corpus_count, epochs=model.epochs)\n",
    "\n",
    "def recommend_song(input_lyric):\n",
    "    # Preprocess input lyric\n",
    "    preprocessed_lyric = preprocess_text(input_lyric)\n",
    "\n",
    "    # Vector of the input lyric\n",
    "    input_vector = model.infer_vector(word_tokenize(preprocessed_lyric))\n",
    "\n",
    "    # Sentiment of the input lyric\n",
    "    input_sentiment = calculate_sentiment(input_lyric)\n",
    "\n",
    "    # Find songs with similar vectors\n",
    "    similar_songs = model.dv.most_similar([input_vector], topn=5)  \n",
    "\n",
    "    # Refine based on sentiment\n",
    "    refined_songs = []\n",
    "    for song_id, similarity in similar_songs:\n",
    "        song_sentiment = df_lyrics.iloc[int(song_id)]['Sentiment']\n",
    "        sentiment_diff = abs(song_sentiment - input_sentiment)\n",
    "        refined_songs.append((song_id, similarity, sentiment_diff))\n",
    "\n",
    "    # Sort by sentiment difference (lower is better)\n",
    "    refined_songs.sort(key=lambda x: x[2])\n",
    "\n",
    "    # Get the most similar song\n",
    "    most_similar_song_index = int(refined_songs[0][0])\n",
    "    recommended_song = df_lyrics.iloc[most_similar_song_index]\n",
    "\n",
    "    return recommended_song['Title']\n",
    "\n",
    "input_lyric = \"I know it's half my fault but I just like to play the victim\"\n",
    "print(recommend_song(input_lyric))"
   ]
  },
  {
   "cell_type": "code",
   "execution_count": 8,
   "id": "172d6794",
   "metadata": {},
   "outputs": [],
   "source": [
    "import streamlit as st"
   ]
  },
  {
   "cell_type": "code",
   "execution_count": 9,
   "id": "f6970af9",
   "metadata": {},
   "outputs": [],
   "source": [
    "def display_text_as_html(text, color, size):\n",
    "    # Using HTML to customize font size and color\n",
    "    html_string = f\"<p style='color: {color}; font-size: {size}px;'>{text}</p>\"\n",
    "    st.markdown(html_string, unsafe_allow_html=True)"
   ]
  },
  {
   "cell_type": "code",
   "execution_count": 12,
   "id": "5a42e2a5",
   "metadata": {},
   "outputs": [],
   "source": [
    "#add background image\n",
    "def add_bg_from_url():\n",
    "    st.markdown(\n",
    "        f\"\"\"\n",
    "        <style>\n",
    "        .stApp {{\n",
    "            background-image: url(\"https://media-cldnry.s-nbcnews.com/image/upload/t_fit-1500w,f_auto,q_auto:best/rockcms/2023-06/230625-taylor-swift-jm-1236-4fb80d.jpg\");\n",
    "            background-attachment: fixed;\n",
    "            background-size: cover;\n",
    "        }}\n",
    "        </style>\n",
    "        \"\"\",\n",
    "        unsafe_allow_html=True\n",
    "    )\n",
    "\n",
    "# Add the background\n",
    "add_bg_from_url()"
   ]
  },
  {
   "cell_type": "code",
   "execution_count": 16,
   "id": "405afc64",
   "metadata": {},
   "outputs": [],
   "source": [
    "st.title('Taylor Swift Song Recommender')\n",
    "\n",
    "#User Input\n",
    "input_lyric = st.text_input(\"Enter a lyric:\")\n",
    "\n",
    "if st.button('Get Recommendation'):\n",
    "    if input_lyric:\n",
    "        # Call the recommend_song function and display the result\n",
    "        recommended_song = recommend_song(input_lyric)\n",
    "        display_text_as_html(f\"Recommended Song: {recommended_song}\", \"dark gray\", 30)\n",
    "    else:\n",
    "        st.write(\"Please enter a lyric to get a recommendation.\")"
   ]
  }
 ],
 "metadata": {
  "kernelspec": {
   "display_name": "Python 3 (ipykernel)",
   "language": "python",
   "name": "python3"
  },
  "language_info": {
   "codemirror_mode": {
    "name": "ipython",
    "version": 3
   },
   "file_extension": ".py",
   "mimetype": "text/x-python",
   "name": "python",
   "nbconvert_exporter": "python",
   "pygments_lexer": "ipython3",
   "version": "3.11.4"
  }
 },
 "nbformat": 4,
 "nbformat_minor": 5
}
